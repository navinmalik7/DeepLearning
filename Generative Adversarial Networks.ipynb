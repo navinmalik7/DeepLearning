{
 "cells": [
  {
   "cell_type": "code",
   "execution_count": 12,
   "metadata": {},
   "outputs": [],
   "source": [
    "from tensorflow.keras.layers import Dense, Reshape, Flatten  \n",
    "from tensorflow.keras.models import Sequential  \n",
    "\n",
    "def build_generator():  \n",
    "    model = Sequential([  \n",
    "        Dense(128, input_dim=100, activation='relu'),  # Input: 100 random numbers  \n",
    "        Dense(784, activation='tanh'),                 # Output: 28x28 image (flattened)  \n",
    "        Reshape((28, 28, 1))                           # Reshape to image dimensions  \n",
    "    ])  \n",
    "    return model  \n",
    "\n",
    "generator = build_generator()  "
   ]
  },
  {
   "cell_type": "code",
   "execution_count": 13,
   "metadata": {},
   "outputs": [],
   "source": [
    "def build_discriminator():  \n",
    "    model = Sequential([  \n",
    "        Flatten(input_shape=(28, 28, 1)),  # Input: 28x28 image  \n",
    "        Dense(128, activation='relu'),  \n",
    "        Dense(1, activation='sigmoid')     # Output: 0 (fake) or 1 (real)  \n",
    "    ])  \n",
    "    return model  \n",
    "\n",
    "discriminator = build_discriminator()  "
   ]
  },
  {
   "cell_type": "code",
   "execution_count": 14,
   "metadata": {},
   "outputs": [],
   "source": [
    "from tensorflow.keras.models import Model \n",
    "import tensorflow as tf\n",
    "\n",
    "# Link generator and discriminator  \n",
    "gan_input = tf.keras.Input(shape=(100,))  \n",
    "generated_image = generator(gan_input)  \n",
    "gan_output = discriminator(generated_image)  \n",
    "gan = Model(gan_input, gan_output)  \n",
    "\n",
    "# Compile the GAN  \n",
    "discriminator.compile(loss='binary_crossentropy', optimizer='adam')  \n",
    "discriminator.trainable = False  # Freeze discriminator during GAN training  \n",
    "gan.compile(loss='binary_crossentropy', optimizer='adam')  "
   ]
  },
  {
   "cell_type": "code",
   "execution_count": 15,
   "metadata": {},
   "outputs": [
    {
     "name": "stdout",
     "output_type": "stream",
     "text": [
      "1/1 [==============================] - 0s 84ms/step\n",
      "Epoch: 0, D Loss: 0.49, G Loss: 0.92\n",
      "1/1 [==============================] - 0s 31ms/step\n",
      "1/1 [==============================] - 0s 5ms/step\n",
      "1/1 [==============================] - 0s 20ms/step\n",
      "1/1 [==============================] - 0s 17ms/step\n",
      "1/1 [==============================] - 0s 16ms/step\n",
      "1/1 [==============================] - 0s 9ms/step\n",
      "1/1 [==============================] - 0s 23ms/step\n",
      "1/1 [==============================] - 0s 29ms/step\n",
      "1/1 [==============================] - 0s 31ms/step\n",
      "1/1 [==============================] - 0s 16ms/step\n",
      "Epoch: 10, D Loss: 0.35, G Loss: 1.36\n",
      "1/1 [==============================] - 0s 23ms/step\n",
      "1/1 [==============================] - 0s 26ms/step\n",
      "1/1 [==============================] - 0s 24ms/step\n",
      "1/1 [==============================] - 0s 17ms/step\n",
      "1/1 [==============================] - 0s 6ms/step\n",
      "1/1 [==============================] - 0s 19ms/step\n",
      "1/1 [==============================] - 0s 16ms/step\n",
      "1/1 [==============================] - 0s 22ms/step\n",
      "1/1 [==============================] - 0s 16ms/step\n",
      "1/1 [==============================] - 0s 33ms/step\n",
      "Epoch: 20, D Loss: 0.37, G Loss: 1.61\n",
      "1/1 [==============================] - 0s 32ms/step\n",
      "1/1 [==============================] - 0s 10ms/step\n",
      "1/1 [==============================] - 0s 5ms/step\n",
      "1/1 [==============================] - 0s 26ms/step\n",
      "1/1 [==============================] - 0s 17ms/step\n",
      "1/1 [==============================] - 0s 4ms/step\n",
      "1/1 [==============================] - 0s 22ms/step\n",
      "1/1 [==============================] - 0s 33ms/step\n",
      "1/1 [==============================] - 0s 44ms/step\n",
      "1/1 [==============================] - 0s 26ms/step\n",
      "Epoch: 30, D Loss: 0.09, G Loss: 3.30\n",
      "1/1 [==============================] - 0s 35ms/step\n",
      "1/1 [==============================] - 0s 19ms/step\n",
      "1/1 [==============================] - 0s 18ms/step\n",
      "1/1 [==============================] - 0s 15ms/step\n",
      "1/1 [==============================] - 0s 16ms/step\n",
      "1/1 [==============================] - 0s 31ms/step\n",
      "1/1 [==============================] - 0s 16ms/step\n",
      "1/1 [==============================] - 0s 29ms/step\n",
      "1/1 [==============================] - 0s 20ms/step\n",
      "1/1 [==============================] - 0s 20ms/step\n",
      "Epoch: 40, D Loss: 0.03, G Loss: 4.09\n",
      "1/1 [==============================] - 0s 17ms/step\n",
      "1/1 [==============================] - 0s 22ms/step\n",
      "1/1 [==============================] - 0s 28ms/step\n",
      "1/1 [==============================] - 0s 21ms/step\n",
      "1/1 [==============================] - 0s 31ms/step\n",
      "1/1 [==============================] - 0s 31ms/step\n",
      "1/1 [==============================] - 0s 16ms/step\n",
      "1/1 [==============================] - 0s 17ms/step\n",
      "1/1 [==============================] - 0s 17ms/step\n",
      "1/1 [==============================] - 0s 25ms/step\n",
      "Epoch: 50, D Loss: 0.02, G Loss: 4.82\n",
      "1/1 [==============================] - 0s 20ms/step\n",
      "1/1 [==============================] - 0s 17ms/step\n",
      "1/1 [==============================] - 0s 16ms/step\n",
      "1/1 [==============================] - 0s 31ms/step\n",
      "1/1 [==============================] - 0s 31ms/step\n",
      "1/1 [==============================] - 0s 23ms/step\n",
      "1/1 [==============================] - 0s 32ms/step\n",
      "1/1 [==============================] - 0s 16ms/step\n",
      "1/1 [==============================] - 0s 17ms/step\n",
      "1/1 [==============================] - 0s 8ms/step\n",
      "Epoch: 60, D Loss: 0.01, G Loss: 5.44\n",
      "1/1 [==============================] - 0s 22ms/step\n",
      "1/1 [==============================] - 0s 15ms/step\n",
      "1/1 [==============================] - 0s 15ms/step\n",
      "1/1 [==============================] - 0s 31ms/step\n",
      "1/1 [==============================] - 0s 31ms/step\n",
      "1/1 [==============================] - 0s 15ms/step\n",
      "1/1 [==============================] - 0s 10ms/step\n",
      "1/1 [==============================] - 0s 32ms/step\n",
      "1/1 [==============================] - 0s 5ms/step\n",
      "1/1 [==============================] - 0s 21ms/step\n",
      "Epoch: 70, D Loss: 0.01, G Loss: 5.63\n",
      "1/1 [==============================] - 0s 15ms/step\n",
      "1/1 [==============================] - 0s 16ms/step\n",
      "1/1 [==============================] - 0s 16ms/step\n",
      "1/1 [==============================] - 0s 16ms/step\n",
      "1/1 [==============================] - 0s 27ms/step\n",
      "1/1 [==============================] - 0s 31ms/step\n",
      "1/1 [==============================] - 0s 16ms/step\n",
      "1/1 [==============================] - 0s 32ms/step\n",
      "1/1 [==============================] - 0s 22ms/step\n",
      "1/1 [==============================] - 0s 15ms/step\n",
      "Epoch: 80, D Loss: 0.00, G Loss: 6.66\n",
      "1/1 [==============================] - 0s 19ms/step\n",
      "1/1 [==============================] - 0s 15ms/step\n",
      "1/1 [==============================] - 0s 19ms/step\n",
      "1/1 [==============================] - 0s 22ms/step\n",
      "1/1 [==============================] - 0s 20ms/step\n",
      "1/1 [==============================] - 0s 21ms/step\n",
      "1/1 [==============================] - 0s 24ms/step\n",
      "1/1 [==============================] - 0s 20ms/step\n",
      "1/1 [==============================] - 0s 28ms/step\n",
      "1/1 [==============================] - 0s 20ms/step\n",
      "Epoch: 90, D Loss: 0.00, G Loss: 6.60\n",
      "1/1 [==============================] - 0s 21ms/step\n",
      "1/1 [==============================] - 0s 16ms/step\n",
      "1/1 [==============================] - 0s 16ms/step\n",
      "1/1 [==============================] - 0s 20ms/step\n",
      "1/1 [==============================] - 0s 16ms/step\n",
      "1/1 [==============================] - 0s 29ms/step\n",
      "1/1 [==============================] - 0s 20ms/step\n",
      "1/1 [==============================] - 0s 17ms/step\n",
      "1/1 [==============================] - 0s 15ms/step\n"
     ]
    }
   ],
   "source": [
    "import numpy as np  \n",
    "from tensorflow.keras.datasets import mnist  \n",
    "\n",
    "# Load MNIST data  \n",
    "(train_images, _), (_, _) = mnist.load_data()  \n",
    "train_images = (train_images.astype('float32') - 127.5) / 127.5  # Normalize to [-1, 1]  \n",
    "\n",
    "# Training loop  \n",
    "epochs = 100  \n",
    "batch_size = 32  \n",
    "\n",
    "for epoch in range(epochs):  \n",
    "    # Train discriminator on real + fake images  \n",
    "    idx = np.random.randint(0, train_images.shape[0], batch_size)  \n",
    "    real_images = train_images[idx]  \n",
    "    noise = np.random.normal(0, 1, (batch_size, 100))  \n",
    "    fake_images = generator.predict(noise)  \n",
    "\n",
    "    # Label real=1, fake=0  \n",
    "    d_loss_real = discriminator.train_on_batch(real_images, np.ones((batch_size, 1)))  \n",
    "    d_loss_fake = discriminator.train_on_batch(fake_images, np.zeros((batch_size, 1)))  \n",
    "    d_loss = 0.5 * (d_loss_real + d_loss_fake)  \n",
    "\n",
    "    # Train generator to fool the discriminator  \n",
    "    noise = np.random.normal(0, 1, (batch_size, 100))  \n",
    "    g_loss = gan.train_on_batch(noise, np.ones((batch_size, 1)))  \n",
    "\n",
    "    # Print progress  \n",
    "    if epoch % 10 == 0:  \n",
    "        print(f\"Epoch: {epoch}, D Loss: {d_loss:.2f}, G Loss: {g_loss:.2f}\")  "
   ]
  },
  {
   "cell_type": "code",
   "execution_count": 16,
   "metadata": {},
   "outputs": [
    {
     "name": "stdout",
     "output_type": "stream",
     "text": [
      "1/1 [==============================] - 0s 55ms/step\n"
     ]
    },
    {
     "data": {
      "image/png": "[encoded data removed]",
      "text/plain": [
       "<Figure size 640x480 with 1 Axes>"
      ]
     },
     "metadata": {},
     "output_type": "display_data"
    }
   ],
   "source": [
    "import matplotlib.pyplot as plt  \n",
    "\n",
    "noise = np.random.normal(0, 1, (1, 100))  \n",
    "generated_image = generator.predict(noise).reshape(28, 28)  \n",
    "\n",
    "plt.imshow(generated_image, cmap='gray')  \n",
    "plt.axis('on')  \n",
    "plt.show()  "
   ]
  },
  {
   "cell_type": "code",
   "execution_count": 24,
   "metadata": {},
   "outputs": [],
   "source": [
    "import tensorflow as tf\n",
    "from tensorflow.keras.models import Sequential\n",
    "from tensorflow.keras.layers import Dense, Flatten, Reshape, LeakyReLU\n",
    "import numpy as np\n",
    "import matplotlib.pyplot as plt\n"
   ]
  },
  {
   "cell_type": "code",
   "execution_count": 25,
   "metadata": {},
   "outputs": [],
   "source": [
    "def build_generator():\n",
    "    model = Sequential([\n",
    "        Dense(128, activation='relu', input_shape=(100,)),\n",
    "        LeakyReLU(alpha=0.2),\n",
    "        Dense(784, activation='sigmoid'),\n",
    "        Reshape((28, 28))\n",
    "    ])\n",
    "    return model\n"
   ]
  },
  {
   "cell_type": "code",
   "execution_count": 26,
   "metadata": {},
   "outputs": [],
   "source": [
    "def build_discriminator():\n",
    "    model = Sequential([\n",
    "        Flatten(input_shape=(28, 28)),\n",
    "        Dense(128, activation='relu'),\n",
    "        LeakyReLU(alpha=0.2),\n",
    "        Dense(1, activation='sigmoid')\n",
    "    ])\n",
    "    return model\n"
   ]
  },
  {
   "cell_type": "code",
   "execution_count": null,
   "metadata": {},
   "outputs": [],
   "source": [
    "def generate_and_plot_images(generator, num_images=5):\n",
    "    noise = np.random.normal(0, 1, (num_images, 100))\n",
    "    generated_images = generator.predict(noise)\n",
    "    \n",
    "    plt.figure(figsize=(10, 2))\n",
    "    for i in range(num_images):\n",
    "        plt.subplot(1, num_images, i+1)\n",
    "        plt.imshow(generated_images[i], cmap='gray')\n",
    "        plt.axis('off')\n",
    "    plt.show()\n",
    "\n",
    "generate_and_plot_images(generator)\n"
   ]
  }
 ],
 "metadata": {
  "kernelspec": {
   "display_name": "pyspark_env",
   "language": "python",
   "name": "python3"
  },
  "language_info": {
   "codemirror_mode": {
    "name": "ipython",
    "version": 3
   },
   "file_extension": ".py",
   "mimetype": "text/x-python",
   "name": "python",
   "nbconvert_exporter": "python",
   "pygments_lexer": "ipython3",
   "version": "3.8.20"
  }
 },
 "nbformat": 4,
 "nbformat_minor": 2
}

{
  "cells": [
    {
      "cell_type": "code",
      "execution_count": null,
      "metadata": {},
      "outputs": [],
      "source": [
        "from typing import Sequence\n"
      ]
    },
    {
      "cell_type": "markdown",
      "metadata": {},
      "source": [
        "# Define LLMs\n",
        "Large Language Models (LLMs) are a type of artificial intelligence model designed to understand and generate human language. They are trained on vast amounts of text data and can perform a variety of language-related tasks."
      ]
    },
    {
      "cell_type": "markdown",
      "metadata": {},
      "source": [
        "# Building an Autocomplete\n",
        "Autocomplete is a feature that predicts the rest of a word or phrase a user is typing. It uses language models to suggest completions based on the context of the input."
      ]
    },
    {
      "cell_type": "code",
      "execution_count": 7,
      "metadata": {},
      "outputs": [
        {
          "data": {
            "text/plain": [
              "'python'"
            ]
          },
          "execution_count": 7,
          "metadata": {},
          "output_type": "execute_result"
        }
      ],
      "source": [
        "# Example of a simple autocomplete function\n",
        "def autocomplete(input_text: str, possible_completions: Sequence[str]) -> str:\n",
        "    for completion in possible_completions:\n",
        "        if completion.startswith(input_text):\n",
        "            return completion\n",
        "    return input_text\n",
        "\n",
        "# Example usage\n",
        "autocomplete('pyth', ['python', 'pycharm', 'pyramid'])"
      ]
    },
    {
      "cell_type": "markdown",
      "metadata": {},
      "source": [
        "# From Autocomplete to LLMs\n",
        "While autocomplete uses simple matching techniques, LLMs leverage deep learning to understand context and generate more accurate and contextually relevant completions."
      ]
    },
    {
      "cell_type": "markdown",
      "metadata": {},
      "source": [
        "# Prompt Engineering\n",
        "Prompt engineering involves designing and refining prompts to effectively communicate with LLMs. The goal is to elicit the desired response from the model by carefully crafting the input prompt."
      ]
    },
    {
      "cell_type": "markdown",
      "metadata": {},
      "source": [
        "# Agentic Design\n",
        "Agentic design refers to creating AI agents that can autonomously perform tasks and make decisions. These agents use LLMs to understand instructions, generate responses, and interact with users or other systems."
      ]
    }
  ],
  "metadata": {
    "language_info": {
      "name": "python"
    }
  },
  "nbformat": 4,
  "nbformat_minor": 2
}

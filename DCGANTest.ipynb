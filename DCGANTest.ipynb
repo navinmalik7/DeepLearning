{
 "cells": [
  {
   "cell_type": "code",
   "execution_count": 1,
   "metadata": {},
   "outputs": [],
   "source": [
    "from tensorflow.keras.layers import Dense, Reshape, Conv2DTranspose, BatchNormalization, LeakyReLU  \n",
    "from tensorflow.keras.models import Sequential  \n",
    "\n",
    "def build_generator():  \n",
    "    model = Sequential([  \n",
    "        Dense(7*7*256, use_bias=False, input_shape=(100,)),  # Input: 100-dimensional noise  \n",
    "        BatchNormalization(),  \n",
    "        LeakyReLU(alpha=0.2),  \n",
    "        Reshape((7, 7, 256)),  \n",
    "        Conv2DTranspose(128, (5,5), strides=(1,1), padding='same', use_bias=False),  \n",
    "        BatchNormalization(),  \n",
    "        LeakyReLU(0.2),  \n",
    "        Conv2DTranspose(64, (5,5), strides=(2,2), padding='same', use_bias=False),  \n",
    "        BatchNormalization(),  \n",
    "        LeakyReLU(0.2),  \n",
    "        Conv2DTranspose(1, (5,5), strides=(2,2), padding='same', use_bias=False, activation='tanh')  \n",
    "    ])  \n",
    "    return model  \n",
    "\n",
    "generator = build_generator()  "
   ]
  },
  {
   "cell_type": "code",
   "execution_count": 2,
   "metadata": {},
   "outputs": [],
   "source": [
    "from tensorflow.keras.layers import Conv2D, Flatten, Dropout  \n",
    "\n",
    "def build_discriminator():  \n",
    "    model = Sequential([  \n",
    "        Conv2D(64, (5,5), strides=(2,2), padding='same', input_shape=(28,28,1)),  \n",
    "        LeakyReLU(0.2),  \n",
    "        Dropout(0.3),  \n",
    "        Conv2D(128, (5,5), strides=(2,2), padding='same'),  \n",
    "        LeakyReLU(0.2),  \n",
    "        Dropout(0.3),  \n",
    "        Flatten(),  \n",
    "        Dense(1, activation='sigmoid')  \n",
    "    ])  \n",
    "    return model  \n",
    "\n",
    "discriminator = build_discriminator()  "
   ]
  },
  {
   "cell_type": "code",
   "execution_count": 3,
   "metadata": {},
   "outputs": [],
   "source": [
    "from tensorflow.keras.optimizers import Adam  \n",
    "\n",
    "discriminator.compile(  \n",
    "    loss='binary_crossentropy',  \n",
    "    optimizer=Adam(learning_rate=0.0002, beta_1=0.5),  \n",
    "    metrics=['accuracy']  \n",
    ")  \n",
    "\n",
    "discriminator.trainable = False  # Freeze during generator training  \n",
    "gan = Sequential([generator, discriminator])  \n",
    "gan.compile(loss='binary_crossentropy', optimizer=Adam(0.0002, beta_1=0.5))  "
   ]
  },
  {
   "cell_type": "code",
   "execution_count": 4,
   "metadata": {},
   "outputs": [],
   "source": [
    "from tensorflow.keras.datasets import mnist  \n",
    "import numpy as np  \n",
    "\n",
    "(train_images, _), (_, _) = mnist.load_data()  \n",
    "train_images = (train_images.astype('float32') - 127.5) / 127.5  # Normalize to [-1, 1]  \n",
    "train_images = np.expand_dims(train_images, axis=-1)  # Add channel dimension  "
   ]
  },
  {
   "cell_type": "code",
   "execution_count": 5,
   "metadata": {},
   "outputs": [
    {
     "name": "stdout",
     "output_type": "stream",
     "text": [
      "2/2 [==============================] - 0s 78ms/step\n",
      "Epoch 0: D Loss = 0.70, G Loss = 0.66\n",
      "2/2 [==============================] - 0s 95ms/step\n",
      "2/2 [==============================] - 0s 122ms/step\n",
      "2/2 [==============================] - 0s 79ms/step\n",
      "2/2 [==============================] - 0s 91ms/step\n",
      "2/2 [==============================] - 0s 95ms/step\n",
      "Epoch 5: D Loss = 0.44, G Loss = 0.30\n",
      "2/2 [==============================] - 0s 88ms/step\n",
      "2/2 [==============================] - 0s 86ms/step\n",
      "2/2 [==============================] - 0s 91ms/step\n",
      "2/2 [==============================] - 0s 88ms/step\n",
      "2/2 [==============================] - 0s 90ms/step\n",
      "Epoch 10: D Loss = 0.37, G Loss = 0.10\n",
      "2/2 [==============================] - 0s 85ms/step\n",
      "2/2 [==============================] - 0s 87ms/step\n",
      "2/2 [==============================] - 0s 83ms/step\n",
      "2/2 [==============================] - 0s 77ms/step\n",
      "2/2 [==============================] - 0s 89ms/step\n",
      "Epoch 15: D Loss = 0.37, G Loss = 0.07\n",
      "2/2 [==============================] - 0s 83ms/step\n",
      "2/2 [==============================] - 0s 72ms/step\n",
      "2/2 [==============================] - 0s 70ms/step\n",
      "2/2 [==============================] - 0s 100ms/step\n",
      "2/2 [==============================] - 0s 81ms/step\n",
      "Epoch 20: D Loss = 0.37, G Loss = 0.07\n",
      "2/2 [==============================] - 0s 82ms/step\n",
      "2/2 [==============================] - 0s 82ms/step\n",
      "2/2 [==============================] - 0s 75ms/step\n",
      "2/2 [==============================] - 0s 89ms/step\n",
      "2/2 [==============================] - 0s 90ms/step\n",
      "Epoch 25: D Loss = 0.33, G Loss = 0.08\n",
      "2/2 [==============================] - 0s 103ms/step\n",
      "2/2 [==============================] - 0s 90ms/step\n",
      "2/2 [==============================] - 0s 103ms/step\n",
      "2/2 [==============================] - 0s 72ms/step\n",
      "2/2 [==============================] - 0s 83ms/step\n",
      "Epoch 30: D Loss = 0.26, G Loss = 0.05\n",
      "2/2 [==============================] - 0s 81ms/step\n",
      "2/2 [==============================] - 0s 91ms/step\n",
      "2/2 [==============================] - 0s 89ms/step\n",
      "2/2 [==============================] - 0s 89ms/step\n",
      "2/2 [==============================] - 0s 95ms/step\n",
      "Epoch 35: D Loss = 0.16, G Loss = 0.04\n",
      "2/2 [==============================] - 0s 86ms/step\n",
      "2/2 [==============================] - 0s 95ms/step\n",
      "2/2 [==============================] - 0s 76ms/step\n",
      "2/2 [==============================] - 0s 82ms/step\n",
      "2/2 [==============================] - 0s 79ms/step\n",
      "Epoch 40: D Loss = 0.08, G Loss = 0.03\n",
      "2/2 [==============================] - 0s 85ms/step\n",
      "2/2 [==============================] - 0s 86ms/step\n",
      "2/2 [==============================] - 0s 88ms/step\n",
      "2/2 [==============================] - 0s 71ms/step\n",
      "2/2 [==============================] - 0s 83ms/step\n",
      "Epoch 45: D Loss = 0.04, G Loss = 0.02\n",
      "2/2 [==============================] - 0s 89ms/step\n",
      "2/2 [==============================] - 0s 94ms/step\n",
      "2/2 [==============================] - 0s 88ms/step\n",
      "2/2 [==============================] - 0s 84ms/step\n"
     ]
    }
   ],
   "source": [
    "epochs = 50  \n",
    "batch_size = 64  \n",
    "\n",
    "for epoch in range(epochs):  \n",
    "    # Train discriminator on real + fake images  \n",
    "    idx = np.random.randint(0, train_images.shape[0], batch_size)  \n",
    "    real_images = train_images[idx]  \n",
    "    noise = np.random.normal(0, 1, (batch_size, 100))  \n",
    "    fake_images = generator.predict(noise)  \n",
    "\n",
    "    # Label real=1, fake=0  \n",
    "    d_loss_real = discriminator.train_on_batch(real_images, np.ones((batch_size, 1)))  \n",
    "    d_loss_fake = discriminator.train_on_batch(fake_images, np.zeros((batch_size, 1)))  \n",
    "    d_loss = 0.5 * np.add(d_loss_real, d_loss_fake)  \n",
    "\n",
    "    # Train generator to fool the discriminator  \n",
    "    noise = np.random.normal(0, 1, (batch_size, 100))  \n",
    "    g_loss = gan.train_on_batch(noise, np.ones((batch_size, 1)))  \n",
    "\n",
    "    # Print progress  \n",
    "    if epoch % 5 == 0:  \n",
    "        print(f\"Epoch {epoch}: D Loss = {d_loss[0]:.2f}, G Loss = {g_loss:.2f}\")  "
   ]
  },
  {
   "cell_type": "code",
   "execution_count": 6,
   "metadata": {},
   "outputs": [
    {
     "name": "stdout",
     "output_type": "stream",
     "text": [
      "1/1 [==============================] - 0s 179ms/step\n"
     ]
    },
    {
     "data": {
      "image/png": "[encoded data removed]",
      "text/plain": [
       "<Figure size 1000x500 with 10 Axes>"
      ]
     },
     "metadata": {},
     "output_type": "display_data"
    }
   ],
   "source": [
    "import matplotlib.pyplot as plt  \n",
    "\n",
    "def plot_generated_images(generator, examples=10):  \n",
    "    noise = np.random.normal(0, 1, (examples, 100))  \n",
    "    generated_images = generator.predict(noise)  \n",
    "    plt.figure(figsize=(10, 5))  \n",
    "    for i in range(examples):  \n",
    "        plt.subplot(2, 5, i+1)  \n",
    "        plt.imshow(generated_images[i].reshape(28, 28), cmap='gray')  \n",
    "        plt.axis('off')  \n",
    "    plt.show()  \n",
    "\n",
    "plot_generated_images(generator)  "
   ]
  }
 ],
 "metadata": {
  "kernelspec": {
   "display_name": "pyspark_env",
   "language": "python",
   "name": "python3"
  },
  "language_info": {
   "codemirror_mode": {
    "name": "ipython",
    "version": 3
   },
   "file_extension": ".py",
   "mimetype": "text/x-python",
   "name": "python",
   "nbconvert_exporter": "python",
   "pygments_lexer": "ipython3",
   "version": "3.8.20"
  }
 },
 "nbformat": 4,
 "nbformat_minor": 2
}

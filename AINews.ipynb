{
 "cells": [
  {
   "cell_type": "code",
   "execution_count": null,
   "metadata": {},
   "outputs": [],
   "source": [
    "import requests  \n",
    "import os  \n",
    "from dotenv import load_dotenv  \n",
    "\n",
    "load_dotenv()  \n",
    "NEWS_API_KEY = os.getenv(\"NEWS_API_KEY\")  \n",
    "\n",
    "def fetch_news(topic=\"technology\"):  \n",
    "    url = f\"https://newsapi.org/v2/everything?q={topic}&apiKey={NEWS_API_KEY}\"  \n",
    "    response = requests.get(url)  \n",
    "    articles = response.json().get(\"articles\", [])  \n",
    "    return articles[:5]  # Top 5 articles  \n",
    "\n",
    "# Example output:  \n",
    "# [{\"title\": \"AI Breakthrough in Healthcare\", \"content\": \"...\"}]  "
   ]
  },
  {
   "cell_type": "code",
   "execution_count": null,
   "metadata": {},
   "outputs": [],
   "source": [
    "import openai  \n",
    "\n",
    "openai.api_key = os.getenv(\"OPENAI_API_KEY\")  \n",
    "\n",
    "def humanize_news(article):  \n",
    "    prompt = f\"\"\"  \n",
    "    Rewrite this news article in a friendly, human tone for a blog.  \n",
    "    Keep it under 300 words. Avoid jargon.  \n",
    "    ---  \n",
    "    Title: {article['title']}  \n",
    "    Content: {article['content']}  \n",
    "    \"\"\"  \n",
    "    response = openai.ChatCompletion.create(  \n",
    "        model=\"gpt-4\",  \n",
    "        messages=[{\"role\": \"user\", \"content\": prompt}]  \n",
    "    )  \n",
    "    return response.choices[0].message['content']  \n",
    "\n",
    "# Example output:  \n",
    "# \"Exciting news in healthcare! Researchers have developed an AI tool that...\"  "
   ]
  },
  {
   "cell_type": "code",
   "execution_count": null,
   "metadata": {},
   "outputs": [],
   "source": [
    "from wordpress import API  \n",
    "\n",
    "WORDPRESS_USER = os.getenv(\"WORDPRESS_USER\")  \n",
    "WORDPRESS_PASSWORD = os.getenv(\"WORDPRESS_PASSWORD\")  \n",
    "\n",
    "def publish_to_blog(title, content):  \n",
    "    wp = API(  \n",
    "        url=\"https://yourblog.com/wp-json\",  \n",
    "        auth=(WORDPRESS_USER, WORDPRESS_PASSWORD)  \n",
    "    )  \n",
    "    post = wp.posts().create(  \n",
    "        title=title,  \n",
    "        content=content,  \n",
    "        status=\"publish\"  \n",
    "    )  \n",
    "    return post  \n",
    "\n",
    "# Example usage:  \n",
    "# publish_to_blog(\"AI in Healthcare\", humanized_content)  "
   ]
  },
  {
   "cell_type": "code",
   "execution_count": null,
   "metadata": {},
   "outputs": [],
   "source": [
    "def daily_update():  \n",
    "    articles = fetch_news()  \n",
    "    for article in articles:  \n",
    "        humanized_content = humanize_news(article)  \n",
    "        print(article['title'], humanized_content)  "
   ]
  },
  {
   "cell_type": "code",
   "execution_count": 5,
   "metadata": {},
   "outputs": [],
   "source": [
    "daily_update()"
   ]
  },
  {
   "cell_type": "code",
   "execution_count": null,
   "metadata": {},
   "outputs": [],
   "source": [
    "import schedule  \n",
    "import time  \n",
    "\n",
    "def daily_update():  \n",
    "    articles = fetch_news()  \n",
    "    for article in articles:  \n",
    "        humanized_content = humanize_news(article)  \n",
    "        publish_to_blog(article['title'], humanized_content)  \n",
    "\n",
    "# Schedule daily at 8 AM  \n",
    "schedule.every().day.at(\"08:00\").do(daily_update)  \n",
    "\n",
    "while True:  \n",
    "    schedule.run_pending()  \n",
    "    time.sleep(1)  "
   ]
  },
  {
   "cell_type": "code",
   "execution_count": null,
   "metadata": {},
   "outputs": [
    {
     "name": "stdout",
     "output_type": "stream",
     "text": [
      "{'status': 'ok', 'totalResults': 10, 'articles': [{'source': {'id': 'bbc-news', 'name': 'BBC News'}, 'author': 'BBC News', 'title': 'Number of young people not in work or education hits 11-year high', 'description': 'The latest figure of 987,000 16-24-year-olds not in work, education or training has risen by 110,000 in a year.', 'url': 'https://www.bbc.co.uk/news/articles/c5ymvnrn0deo', 'urlToImage': 'https://ichef.bbci.co.uk/ace/branded_news/1200/cpsprodpb/b11f/live/bae809d0-f4e2-11ef-ae0a-4bca4f518eb0.jpg', 'publishedAt': '2025-02-27T13:52:18.2046663Z', 'content': 'The charity was crucial for Harry, 23, who spent three years, when he was Neet, largely confined to his bedroom.\\r\\nThe downward spiral in his mental health during the Covid pandemic, after his A-level… [+664 chars]'}, {'source': {'id': 'bbc-news', 'name': 'BBC News'}, 'author': 'BBC News', 'title': 'Pamela Anderson on missing out on the Oscars', 'description': 'In a wide-ranging interview, the former Baywatch actress also explained why she no longer wears makeup.', 'url': 'https://www.bbc.co.uk/news/articles/cn4z410dk2ko', 'urlToImage': 'https://ichef.bbci.co.uk/ace/branded_news/1200/cpsprodpb/4b9e/live/356546e0-f142-11ef-b121-f964740b4dec.jpg', 'publishedAt': '2025-02-27T13:22:25.5170863Z', 'content': 'The Last Showgirl has received a mixed reception from critics, though most have praised Anderson\\'s performance.\\r\\nThe New York Times called it, external \"sensitive and beguiling\" and described Anderso… [+1256 chars]'}, {'source': {'id': 'bbc-news', 'name': 'BBC News'}, 'author': 'BBC News', 'title': 'Why are the Tate brothers heading to the US?', 'description': 'Andrew Tate and his brother Tristan have left Romania, where they were previously under a travel ban.', 'url': 'https://www.bbc.co.uk/news/articles/cg4kkv3e1v9o', 'urlToImage': 'https://ichef.bbci.co.uk/ace/branded_news/1200/cpsprodpb/f438/live/cccb0d90-f4fc-11ef-9808-4d9b058d1a40.jpg', 'publishedAt': '2025-02-27T13:22:21.56256Z', 'content': 'The brothers had been under a travel ban in Romania for more than two years while they were under investigation.\\r\\nSpeculation that they would leave Romania had been mounting ahead of their journey, a… [+1119 chars]'}, {'source': {'id': 'bbc-news', 'name': 'BBC News'}, 'author': 'BBC News', 'title': 'Young woman dies in Bristol dog attack', 'description': 'Police have arrested two people on suspicion of offences under the Dangerous Dogs Act.', 'url': 'https://www.bbc.co.uk/news/articles/c86pp14j0dxo', 'urlToImage': 'https://ichef.bbci.co.uk/ace/branded_news/1200/cpsprodpb/6aa4/live/d98dd830-f508-11ef-8a81-19610c927464.jpg', 'publishedAt': '2025-02-27T12:52:22.8140977Z', 'content': 'A 19-year-old woman has died in a dog attack at a flat in Bristol, police say.\\r\\nTwo people have been arrested following the attack at about 19:00 GMT on Wednesday at the property in Cobhorn Drive, so… [+373 chars]'}, {'source': {'id': 'bbc-news', 'name': 'BBC News'}, 'author': 'BBC News', 'title': 'UK asylum claims hit highest level since 1979', 'description': 'More than 108,000 people claimed asylum in the UK in 2024, according to new statistics.', 'url': 'https://www.bbc.co.uk/news/articles/c62zzxeeveeo', 'urlToImage': 'https://ichef.bbci.co.uk/ace/branded_news/1200/cpsprodpb/bcf4/live/71359190-f4ec-11ef-ae0a-4bca4f518eb0.jpg', 'publishedAt': '2025-02-27T12:37:32.4857607Z', 'content': 'While irregular arrivals rose last year, the number of work and study visas - which account for a majority of arrivals under the immigration routes examined by the Home Office - both dropped.\\r\\nThe pr… [+1463 chars]'}, {'source': {'id': 'bbc-news', 'name': 'BBC News'}, 'author': 'BBC News', 'title': \"Mike Amesbury: MP's prison term suspended on appeal\", 'description': 'Cheshire MP Mike Amesbury, convicted of a street assault, was originally sent straight to jail.', 'url': 'https://www.bbc.co.uk/news/articles/ce8yy0116y8o', 'urlToImage': 'https://ichef.bbci.co.uk/ace/branded_news/1200/cpsprodpb/bbf4/live/88932140-f505-11ef-9e61-71ee71f26eb1.jpg', 'publishedAt': '2025-02-27T12:37:22.6732932Z', 'content': 'Cheshire MP Mike Amesbury, who repeatedly punched a constituent during a row in the street, has been released from prison after a judge agreed to suspend his 10-week sentence for two years.\\r\\nThe Runc… [+526 chars]'}, {'source': {'id': 'bbc-news', 'name': 'BBC News'}, 'author': 'BBC News', 'title': 'Son loses High Court case against parents over move to Africa', 'description': 'The 14-year-old from London brought a case against his parents after being sent to school in Ghana.', 'url': 'https://www.bbc.co.uk/news/articles/cdryre7y4n0o', 'urlToImage': 'https://ichef.bbci.co.uk/ace/branded_news/1200/cpsprodpb/3e3a/live/26595570-f4ed-11ef-ae0a-4bca4f518eb0.png', 'publishedAt': '2025-02-27T11:37:22.5802645Z', 'content': 'In a written statement to the court, he said: \"I feel like I am living in hell. I really do not think I deserve this and I want to come home, back to England, as soon as possible.\"\\r\\nBut High Court ju… [+2190 chars]'}, {'source': {'id': 'bbc-news', 'name': 'BBC News'}, 'author': 'BBC News', 'title': 'Gene Hackman: Hollywood legend dies aged 97', 'description': 'In a six-decade career, he received two Oscars, two Baftas and four Golden Globe Awards.', 'url': 'https://www.bbc.co.uk/news/articles/cewkkkvkzn9o', 'urlToImage': 'https://ichef.bbci.co.uk/ace/branded_news/1200/cpsprodpb/6d25/live/d0973d50-f4e7-11ef-896e-d7e7fb1719a4.jpg', 'publishedAt': '2025-02-27T08:52:20.7038122Z', 'content': 'Born in California in 1930, Hackman had enlisted in the army after lying about his age at 16, serving for four-and-a-half years.\\r\\nFollowing his military service, after briefly living in New York he d… [+536 chars]'}, {'source': {'id': 'bbc-news', 'name': 'BBC News'}, 'author': 'BBC News', 'title': 'Leaked recordings challenge Greek account of deadly shipwreck', 'description': 'Hundreds are thought to have died when the Adriana sank in international waters two years ago.', 'url': 'https://www.bbc.co.uk/news/articles/c17qe11wy52o', 'urlToImage': 'https://ichef.bbci.co.uk/ace/branded_news/1200/cpsprodpb/3786/live/e6deade0-f457-11ef-8c03-7dfdbeeb2526.jpg', 'publishedAt': '2025-02-27T07:37:21.0009582Z', 'content': 'The sinking was one of the worst-ever disasters known to have happened in the Mediterranean Sea.\\r\\nIt is estimated the boat was carrying up to 750 migrants when it set off from the port of Tobruk in L… [+2898 chars]'}, {'source': {'id': 'bbc-news', 'name': 'BBC News'}, 'author': 'BBC News', 'title': \"Cousin marriage: The new evidence about children's ill health\", 'description': \"Cousin marriage: The new evidence about children's ill health\", 'url': 'https://www.bbc.co.uk/news/articles/c241pn09qqjo', 'urlToImage': 'https://ichef.bbci.co.uk/ace/branded_news/1200/cpsprodpb/881e/live/e969b7e0-f38e-11ef-896e-d7e7fb1719a4.png', 'publishedAt': '2025-02-27T00:37:25.1098004Z', 'content': \"Aside from health concerns, there's another reason some people want to see cousin marriage banned: its impact on social cohesion. This is what's largely driving the debate in Scandinavia. In Norway, … [+1730 chars]\"}]}\n"
     ]
    }
   ],
   "source": [
    "import requests\n",
    "import os\n",
    "from dotenv import load_dotenv\n",
    "\n",
    "load_dotenv()\n",
    "\n",
    "NEWS_API_KEY = os.getenv(\"1fd4780be2c64a4eb4c822d942c51fc4\")\n",
    "NEWS_API_URL = \"https://newsapi.org/v2/top-headlines?country=us&category=technology&apiKey=\" + NEWS_API_KEY\n",
    "\n",
    "def fetch_news():\n",
    "    response = requests.get(NEWS_API_URL)\n",
    "    if response.status_code == 200:\n",
    "        articles = response.json().get(\"articles\", [])\n",
    "        return articles\n",
    "    else:\n",
    "        print(\"Error fetching news:\", response.status_code)\n",
    "        return []"
   ]
  }
 ],
 "metadata": {
  "kernelspec": {
   "display_name": "pyspark_env",
   "language": "python",
   "name": "python3"
  },
  "language_info": {
   "codemirror_mode": {
    "name": "ipython",
    "version": 3
   },
   "file_extension": ".py",
   "mimetype": "text/x-python",
   "name": "python",
   "nbconvert_exporter": "python",
   "pygments_lexer": "ipython3",
   "version": "3.8.20"
  }
 },
 "nbformat": 4,
 "nbformat_minor": 2
}

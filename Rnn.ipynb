{
 "cells": [
  {
   "cell_type": "code",
   "execution_count": 2,
   "metadata": {},
   "outputs": [
    {
     "name": "stdout",
     "output_type": "stream",
     "text": [
      "Epoch 1/10\n",
      "32/32 [==============================] - 1s 3ms/step - loss: 0.7087 - accuracy: 0.4990\n",
      "Epoch 2/10\n",
      "32/32 [==============================] - 0s 3ms/step - loss: 0.6952 - accuracy: 0.5230\n",
      "Epoch 3/10\n",
      "32/32 [==============================] - 0s 3ms/step - loss: 0.6920 - accuracy: 0.5110\n",
      "Epoch 4/10\n",
      "32/32 [==============================] - 0s 3ms/step - loss: 0.6882 - accuracy: 0.5280\n",
      "Epoch 5/10\n",
      "32/32 [==============================] - 0s 3ms/step - loss: 0.6848 - accuracy: 0.5490\n",
      "Epoch 6/10\n",
      "32/32 [==============================] - 0s 3ms/step - loss: 0.6825 - accuracy: 0.5670\n",
      "Epoch 7/10\n",
      "32/32 [==============================] - 0s 3ms/step - loss: 0.6777 - accuracy: 0.5710\n",
      "Epoch 8/10\n",
      "32/32 [==============================] - 0s 3ms/step - loss: 0.6752 - accuracy: 0.5850\n",
      "Epoch 9/10\n",
      "32/32 [==============================] - 0s 3ms/step - loss: 0.6741 - accuracy: 0.5830\n",
      "Epoch 10/10\n",
      "32/32 [==============================] - 0s 3ms/step - loss: 0.6686 - accuracy: 0.5890\n",
      "32/32 [==============================] - 0s 2ms/step - loss: 0.6621 - accuracy: 0.6110\n",
      "Loss: 0.6621330380439758, Accuracy: 0.6110000014305115\n"
     ]
    }
   ],
   "source": [
    "import numpy as np\n",
    "import tensorflow as tf\n",
    "from tensorflow.keras.models import Sequential\n",
    "from tensorflow.keras.layers import SimpleRNN, Dense\n",
    "\n",
    "# Generate dummy data\n",
    "# Here we create a dataset with 1000 samples, each sample has 10 timesteps, and each timestep has 8 features\n",
    "data = np.random.random((1000, 10, 8))  # 1000 samples, 10 timesteps, 8 features\n",
    "labels = np.random.randint(2, size=(1000, 1))  # Binary labels (0 or 1)\n",
    "\n",
    "# Build the RNN model\n",
    "# We use Sequential model which is a linear stack of layers\n",
    "model = Sequential()\n",
    "\n",
    "# Add a SimpleRNN layer with 32 units\n",
    "# The input_shape parameter specifies the shape of the input data (timesteps, features)\n",
    "model.add(SimpleRNN(32, input_shape=(10, 8)))\n",
    "\n",
    "# Add a Dense layer with 1 unit and sigmoid activation function\n",
    "# This is the output layer which will output a probability (between 0 and 1)\n",
    "model.add(Dense(1, activation='sigmoid'))\n",
    "\n",
    "# Compile the model\n",
    "# We use 'adam' optimizer and 'binary_crossentropy' loss function for binary classification\n",
    "# We also specify 'accuracy' as a metric to evaluate the model\n",
    "model.compile(optimizer='adam', loss='binary_crossentropy', metrics=['accuracy'])\n",
    "\n",
    "# Train the model\n",
    "# We train the model for 10 epochs with a batch size of 32\n",
    "model.fit(data, labels, epochs=10, batch_size=32)\n",
    "\n",
    "# Evaluate the model\n",
    "# We evaluate the model on the same data to get the loss and accuracy\n",
    "loss, accuracy = model.evaluate(data, labels)\n",
    "print(f'Loss: {loss}, Accuracy: {accuracy}')"
   ]
  }
 ],
 "metadata": {
  "kernelspec": {
   "display_name": "pyspark_env",
   "language": "python",
   "name": "python3"
  },
  "language_info": {
   "codemirror_mode": {
    "name": "ipython",
    "version": 3
   },
   "file_extension": ".py",
   "mimetype": "text/x-python",
   "name": "python",
   "nbconvert_exporter": "python",
   "pygments_lexer": "ipython3",
   "version": "3.8.20"
  }
 },
 "nbformat": 4,
 "nbformat_minor": 2
}
